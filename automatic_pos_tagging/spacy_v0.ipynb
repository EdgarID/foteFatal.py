{
  "nbformat": 4,
  "nbformat_minor": 0,
  "metadata": {
    "colab": {
      "private_outputs": true,
      "provenance": [],
      "authorship_tag": "ABX9TyO5n+poTPlIAURDFCQ8yIM+",
      "include_colab_link": true
    },
    "kernelspec": {
      "name": "python3",
      "display_name": "Python 3"
    },
    "language_info": {
      "name": "python"
    }
  },
  "cells": [
    {
      "cell_type": "markdown",
      "metadata": {
        "id": "view-in-github",
        "colab_type": "text"
      },
      "source": [
        "<a href=\"https://colab.research.google.com/github/EdgarID/foteFatal.py/blob/toyVersion/automatic_pos_tagging/spacy_v0.ipynb\" target=\"_parent\"><img src=\"https://colab.research.google.com/assets/colab-badge.svg\" alt=\"Open In Colab\"/></a>"
      ]
    },
    {
      "cell_type": "code",
      "execution_count": null,
      "metadata": {
        "id": "0Y2NZr0QH2El"
      },
      "outputs": [],
      "source": [
        "# install packages\n",
        "! pip install spacy\n",
        "! python -m spacy download fr_core_news_md"
      ]
    },
    {
      "cell_type": "code",
      "source": [
        "import spacy\n",
        "\n",
        "# Load French spaCy model\n",
        "nlp = spacy.load(\"fr_core_news_md\")\n"
      ],
      "metadata": {
        "id": "RpiHQYbBH21j"
      },
      "execution_count": null,
      "outputs": []
    },
    {
      "cell_type": "code",
      "source": [
        "# Read content from a text file\n",
        "with open(\"./Apprenants_polonophones_du_FLE_Licence_2.txt\", \"r\", encoding=\"utf-8\") as f:\n",
        "    text = f.read()"
      ],
      "metadata": {
        "id": "g9IQNKvDH26V"
      },
      "execution_count": null,
      "outputs": []
    },
    {
      "cell_type": "code",
      "source": [
        "# Process the text\n",
        "doc = nlp(text)"
      ],
      "metadata": {
        "id": "uJbtCzfsH29N"
      },
      "execution_count": null,
      "outputs": []
    },
    {
      "cell_type": "code",
      "source": [
        "# Write to CSV\n",
        "import csv\n",
        "\n",
        "with open(\"pos_output.csv\", \"w\", newline=\"\", encoding=\"utf-8\") as csvfile:\n",
        "    writer = csv.writer(csvfile)\n",
        "    writer.writerow([\"TOKEN\", \"LEMMA\", \"POS\", \"TAG\", \"DEP\"])\n",
        "    for token in doc:\n",
        "        writer.writerow([token.text, token.lemma_, token.pos_, token.tag_, token.dep_])\n",
        "\n",
        "print(\"✅ POS tagging results saved to pos_output.csv\")"
      ],
      "metadata": {
        "id": "uHoNpsMKH3C1"
      },
      "execution_count": null,
      "outputs": []
    }
  ]
}