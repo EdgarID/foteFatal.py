{
  "nbformat": 4,
  "nbformat_minor": 0,
  "metadata": {
    "colab": {
      "private_outputs": true,
      "provenance": [],
      "authorship_tag": "ABX9TyOOFco/WYecvzGRFHBj1DGG",
      "include_colab_link": true
    },
    "kernelspec": {
      "name": "python3",
      "display_name": "Python 3"
    },
    "language_info": {
      "name": "python"
    }
  },
  "cells": [
    {
      "cell_type": "markdown",
      "metadata": {
        "id": "view-in-github",
        "colab_type": "text"
      },
      "source": [
        "<a href=\"https://colab.research.google.com/github/EdgarID/foteFatal.py/blob/toyVersion/automatic_pos_tagging/pos_french_transformer.ipynb\" target=\"_parent\"><img src=\"https://colab.research.google.com/assets/colab-badge.svg\" alt=\"Open In Colab\"/></a>"
      ]
    },
    {
      "cell_type": "code",
      "execution_count": null,
      "metadata": {
        "id": "owG1djKqgltu"
      },
      "outputs": [],
      "source": [
        "# -----------------------------\n",
        "# 1. Install packages\n",
        "# -----------------------------\n",
        "!pip install -U spacy torch\n",
        "!python -m spacy download fr_dep_news_trf\n"
      ]
    },
    {
      "cell_type": "code",
      "source": [
        "# -----------------------------\n",
        "# 2. Import and load model\n",
        "# -----------------------------\n",
        "import spacy\n",
        "\n",
        "# Load transformer-based French model\n",
        "nlp = spacy.load(\"fr_dep_news_trf\")"
      ],
      "metadata": {
        "id": "fxQD4YPGgyRj"
      },
      "execution_count": null,
      "outputs": []
    },
    {
      "cell_type": "code",
      "source": [
        "# -----------------------------\n",
        "# 3. Read text file\n",
        "# -----------------------------\n",
        "with open(\"./Apprenants polonophones du FLE_Licence 2.txt\", \"r\", encoding=\"utf-8\") as f:\n",
        "    text = f.read()"
      ],
      "metadata": {
        "id": "NXnTkM3ugyXY"
      },
      "execution_count": null,
      "outputs": []
    },
    {
      "cell_type": "code",
      "source": [
        "# -----------------------------\n",
        "# 4. Process text\n",
        "# -----------------------------\n",
        "doc = nlp(text)"
      ],
      "metadata": {
        "id": "Ny2vaHQ9gyZu"
      },
      "execution_count": null,
      "outputs": []
    },
    {
      "cell_type": "code",
      "source": [
        "# -----------------------------\n",
        "# 5. Write results to CSV\n",
        "# -----------------------------\n",
        "import csv\n",
        "\n",
        "with open(\"pos_output_trf.csv\", \"w\", newline=\"\", encoding=\"utf-8\") as csvfile:\n",
        "    writer = csv.writer(csvfile)\n",
        "    writer.writerow([\"TOKEN\", \"LEMMA\", \"POS\", \"TAG\", \"DEP\"])\n",
        "    for token in doc:\n",
        "        writer.writerow([token.text, token.lemma_, token.pos_, token.tag_, token.dep_])\n",
        "\n",
        "print(\"✅ POS tagging results saved to pos_output_trf.csv\")"
      ],
      "metadata": {
        "id": "Tl8MXCqwgyc1"
      },
      "execution_count": null,
      "outputs": []
    }
  ]
}